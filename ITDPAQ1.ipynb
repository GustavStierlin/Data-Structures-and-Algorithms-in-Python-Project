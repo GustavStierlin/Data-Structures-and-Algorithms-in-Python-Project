{
 "cells": [
  {
   "cell_type": "code",
   "execution_count": null,
   "metadata": {},
   "outputs": [],
   "source": [
    "def string_permuation( name):\n",
    "    \n",
    "    for i in name:\n",
    "        count = 0\n",
    "        for j in name:\n",
    "            self(name)\n",
    "            if count > 1:\n",
    "                break\n",
    "            if count == 1:\n",
    "                result += i\n",
    "    print(\"non repeating characters = \", result)\n",
    "\n",
    "name = input(\"Please enter your name: \")\n",
    "string_permuation(name)\n",
    "\n",
    "            "
   ]
  }
 ],
 "metadata": {
  "kernelspec": {
   "display_name": "Python 3.10.8 64-bit",
   "language": "python",
   "name": "python3"
  },
  "language_info": {
   "codemirror_mode": {
    "name": "ipython",
    "version": 3
   },
   "file_extension": ".py",
   "mimetype": "text/x-python",
   "name": "python",
   "nbconvert_exporter": "python",
   "pygments_lexer": "ipython3",
   "version": "3.10.8"
  },
  "orig_nbformat": 4,
  "vscode": {
   "interpreter": {
    "hash": "9f8688d2bc69c748babb560adc9158621fb8aef49546882c3e4c6326402dd0cc"
   }
  }
 },
 "nbformat": 4,
 "nbformat_minor": 2
}
